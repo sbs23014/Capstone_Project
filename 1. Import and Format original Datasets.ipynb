{
 "cells": [
  {
   "cell_type": "code",
   "execution_count": 15,
   "id": "4a703d09",
   "metadata": {},
   "outputs": [
    {
     "name": "stdout",
     "output_type": "stream",
     "text": [
      "^C\n",
      "Requirement already satisfied: openpyxl in c:\\users\\conor\\anaconda3\\lib\\site-packages (3.0.10)\n",
      "Requirement already satisfied: et_xmlfile in c:\\users\\conor\\anaconda3\\lib\\site-packages (from openpyxl) (1.1.0)\n"
     ]
    }
   ],
   "source": [
    "!pip uninstall openpyxl\n",
    "!pip install openpyxl\n",
    "\n",
    "import pandas as pd\n",
    "df = pd.read_excel('Public_Debt_Levels_All_Countries.xls', skiprows=[1])\n",
    "\n"
   ]
  },
  {
   "cell_type": "code",
   "execution_count": 2,
   "id": "aea10d74",
   "metadata": {},
   "outputs": [
    {
     "name": "stdout",
     "output_type": "stream",
     "text": [
      "    DEBT (% of GDP)     1800     1801     1802     1803     1804     1805  \\\n",
      "0       Afghanistan  no data  no data  no data  no data  no data  no data   \n",
      "1           Albania  no data  no data  no data  no data  no data  no data   \n",
      "2           Algeria  no data  no data  no data  no data  no data  no data   \n",
      "3            Angola  no data  no data  no data  no data  no data  no data   \n",
      "4          Anguilla  no data  no data  no data  no data  no data  no data   \n",
      "..              ...      ...      ...      ...      ...      ...      ...   \n",
      "190   G-20 Advanced    97.46    96.59   102.73   103.23   102.29   101.49   \n",
      "191   G-20 Emerging  no data  no data  no data  no data  no data  no data   \n",
      "192      Low Income  no data  no data  no data  no data  no data  no data   \n",
      "193             NaN      NaN      NaN      NaN      NaN      NaN      NaN   \n",
      "194      ©IMF, 2023      NaN      NaN      NaN      NaN      NaN      NaN   \n",
      "\n",
      "        1806     1807     1808  ...   2006   2007   2008   2009   2010   2011  \\\n",
      "0    no data  no data  no data  ...  23.02  20.24  18.37  16.78    7.9   7.14   \n",
      "1    no data  no data  no data  ...  56.69  53.55  55.14  59.67  57.72  59.41   \n",
      "2    no data  no data  no data  ...   24.3  13.61   8.39  10.16  10.87   9.49   \n",
      "3    no data  no data  no data  ...   18.7  16.07  16.65  22.71  44.29   33.8   \n",
      "4    no data  no data  no data  ...  14.04  14.04   15.4   25.1   32.5  29.21   \n",
      "..       ...      ...      ...  ...    ...    ...    ...    ...    ...    ...   \n",
      "190   102.54   103.07   102.83  ...  64.45  64.01  67.83     79   81.1  81.51   \n",
      "191  no data  no data  no data  ...   36.8  34.93  35.12  38.24  38.45  38.14   \n",
      "192  no data  no data  no data  ...  49.21  44.18  41.39  39.53  40.53  39.76   \n",
      "193      NaN      NaN      NaN  ...    NaN    NaN    NaN    NaN    NaN    NaN   \n",
      "194      NaN      NaN      NaN  ...    NaN    NaN    NaN    NaN    NaN    NaN   \n",
      "\n",
      "      2012   2013   2014   2015  \n",
      "0     6.63   6.75   6.38   6.25  \n",
      "1    62.14  70.39  72.04  73.32  \n",
      "2     9.49   7.74   7.96   9.06  \n",
      "3    29.49  32.87  40.66  64.24  \n",
      "4    30.94  30.42  24.11  22.15  \n",
      "..     ...    ...    ...    ...  \n",
      "190  84.84  86.08  87.94   91.5  \n",
      "191   37.8  39.56  41.71  46.35  \n",
      "192  36.93  38.53  45.38   48.2  \n",
      "193    NaN    NaN    NaN    NaN  \n",
      "194    NaN    NaN    NaN    NaN  \n",
      "\n",
      "[195 rows x 217 columns]\n"
     ]
    }
   ],
   "source": [
    "print(df)"
   ]
  },
  {
   "cell_type": "code",
   "execution_count": 3,
   "id": "e532c03f",
   "metadata": {},
   "outputs": [
    {
     "name": "stdout",
     "output_type": "stream",
     "text": [
      "    DEBT (% of GDP)     1800     1801     1802     1803     1804     1805  \\\n",
      "45          Denmark  no data  no data  no data  no data  no data  no data   \n",
      "80          Ireland  no data  no data  no data  no data  no data  no data   \n",
      "178  United Kingdom   176.84   177.47   188.99   190.67    188.4   189.07   \n",
      "\n",
      "        1806     1807     1808  ...   2006   2007   2008   2009   2010  \\\n",
      "45   no data  no data  no data  ...  31.54  27.34  33.39  40.37  42.88   \n",
      "80   no data  no data  no data  ...  24.81  25.01  44.34  61.68   86.3   \n",
      "178   192.64   193.88   191.51  ...  41.02  42.21  50.27   64.2  75.74   \n",
      "\n",
      "       2011    2012    2013    2014   2015  \n",
      "45    46.41   45.19   44.65   44.77  45.53  \n",
      "80   109.61  119.48  119.47  105.25  78.68  \n",
      "178   81.32   84.82      86   87.94  88.98  \n",
      "\n",
      "[3 rows x 217 columns]\n"
     ]
    }
   ],
   "source": [
    "# List of countries to keep\n",
    "countries_to_keep = ['Denmark', 'United Kingdom', 'Ireland']\n",
    "\n",
    "# Filter rows based on the values in the first column\n",
    "df_filtered = df[df['DEBT (% of GDP)'].isin(countries_to_keep)]\n",
    "\n",
    "print(df_filtered)"
   ]
  },
  {
   "cell_type": "code",
   "execution_count": 4,
   "id": "42a03769",
   "metadata": {},
   "outputs": [
    {
     "name": "stdout",
     "output_type": "stream",
     "text": [
      "                     45       80              178\n",
      "DEBT (% of GDP)  Denmark  Ireland  United Kingdom\n",
      "1800             no data  no data          176.84\n",
      "1801             no data  no data          177.47\n",
      "1802             no data  no data          188.99\n",
      "1803             no data  no data          190.67\n",
      "...                  ...      ...             ...\n",
      "2011               46.41   109.61           81.32\n",
      "2012               45.19   119.48           84.82\n",
      "2013               44.65   119.47              86\n",
      "2014               44.77   105.25           87.94\n",
      "2015               45.53    78.68           88.98\n",
      "\n",
      "[217 rows x 3 columns]\n"
     ]
    }
   ],
   "source": [
    "df_transposed = df_filtered.transpose()\n",
    "\n",
    "print(df_transposed)"
   ]
  },
  {
   "cell_type": "code",
   "execution_count": 5,
   "id": "ab589ead",
   "metadata": {},
   "outputs": [
    {
     "name": "stdout",
     "output_type": "stream",
     "text": [
      "               index       45       80             178\n",
      "0    DEBT (% of GDP)  Denmark  Ireland  United Kingdom\n",
      "1               1800  no data  no data          176.84\n",
      "2               1801  no data  no data          177.47\n",
      "3               1802  no data  no data          188.99\n",
      "4               1803  no data  no data          190.67\n",
      "..               ...      ...      ...             ...\n",
      "212             2011    46.41   109.61           81.32\n",
      "213             2012    45.19   119.48           84.82\n",
      "214             2013    44.65   119.47              86\n",
      "215             2014    44.77   105.25           87.94\n",
      "216             2015    45.53    78.68           88.98\n",
      "\n",
      "[217 rows x 4 columns]\n"
     ]
    }
   ],
   "source": [
    "df_transposed_reset = df_transposed.reset_index()\n",
    "print(df_transposed_reset)"
   ]
  },
  {
   "cell_type": "code",
   "execution_count": 6,
   "id": "26e09a86",
   "metadata": {},
   "outputs": [
    {
     "name": "stdout",
     "output_type": "stream",
     "text": [
      "0    Year  Denmark  Ireland United Kingdom\n",
      "0    1800  no data  no data         176.84\n",
      "1    1801  no data  no data         177.47\n",
      "2    1802  no data  no data         188.99\n",
      "3    1803  no data  no data         190.67\n",
      "4    1804  no data  no data          188.4\n",
      "..    ...      ...      ...            ...\n",
      "211  2011    46.41   109.61          81.32\n",
      "212  2012    45.19   119.48          84.82\n",
      "213  2013    44.65   119.47             86\n",
      "214  2014    44.77   105.25          87.94\n",
      "215  2015    45.53    78.68          88.98\n",
      "\n",
      "[216 rows x 4 columns]\n"
     ]
    }
   ],
   "source": [
    "headers = df_transposed_reset.iloc[0]\n",
    "df = pd.DataFrame(df_transposed_reset.values[1:], columns = headers)\n",
    "df = df.rename(columns={\"DEBT (% of GDP)\": \"Year\"})\n",
    "print(df)"
   ]
  },
  {
   "cell_type": "code",
   "execution_count": 7,
   "id": "57d5dbfc",
   "metadata": {},
   "outputs": [
    {
     "name": "stdout",
     "output_type": "stream",
     "text": [
      "0    Year  Denmark  Ireland United Kingdom\n",
      "0    1800  no data  no data         176.84\n",
      "1    1801  no data  no data         177.47\n",
      "2    1802  no data  no data         188.99\n",
      "3    1803  no data  no data         190.67\n",
      "4    1804  no data  no data          188.4\n",
      "5    1805  no data  no data         189.07\n",
      "6    1806  no data  no data         192.64\n",
      "7    1807  no data  no data         193.88\n",
      "8    1808  no data  no data         191.51\n",
      "9    1809  no data  no data         188.99\n",
      "10   1810  no data  no data         186.69\n",
      "11   1811  no data  no data         182.51\n",
      "12   1812  no data  no data         188.11\n",
      "13   1813  no data  no data         196.74\n",
      "14   1814  no data  no data         219.62\n",
      "15   1815  no data  no data         226.31\n",
      "16   1816  no data  no data         237.32\n",
      "17   1817  no data  no data         231.09\n",
      "18   1818  no data  no data         259.04\n",
      "19   1819  no data  no data         260.29\n",
      "20   1820  no data  no data         259.95\n",
      "21   1821  no data  no data         260.34\n",
      "22   1822  no data  no data         246.73\n",
      "23   1823  no data  no data         237.29\n",
      "24   1824  no data  no data          224.8\n",
      "25   1825  no data  no data         212.72\n",
      "26   1826  no data  no data         201.07\n",
      "27   1827  no data  no data         191.97\n",
      "28   1828  no data  no data          182.7\n",
      "29   1829  no data  no data         173.55\n",
      "30   1830  no data  no data         181.57\n",
      "31   1831  no data  no data         177.91\n",
      "32   1832  no data  no data         187.29\n",
      "33   1833  no data  no data         190.05\n",
      "34   1834  no data  no data         177.49\n",
      "35   1835  no data  no data         164.52\n",
      "36   1836  no data  no data         155.71\n",
      "37   1837  no data  no data         163.34\n",
      "38   1838  no data  no data         151.86\n",
      "39   1839  no data  no data         143.47\n",
      "40   1840  no data  no data         154.68\n",
      "41   1841  no data  no data         164.18\n",
      "42   1842  no data  no data         172.85\n",
      "43   1843  no data  no data         172.99\n",
      "44   1844  no data  no data         157.05\n",
      "45   1845  no data  no data         147.12\n",
      "46   1846  no data  no data          135.7\n",
      "47   1847  no data  no data         130.09\n",
      "48   1848  no data  no data         136.74\n",
      "49   1849  no data  no data         135.15\n",
      "50   1850  no data  no data         148.51\n",
      "51   1851  no data  no data         139.75\n",
      "52   1852  no data  no data         137.36\n",
      "53   1853  no data  no data         131.65\n",
      "54   1854  no data  no data          125.1\n",
      "55   1855  no data  no data          120.9\n",
      "56   1856  no data  no data         120.04\n",
      "57   1857  no data  no data         121.58\n",
      "58   1858  no data  no data         125.04\n",
      "59   1859  no data  no data         117.58\n",
      "60   1860  no data  no data          115.5\n",
      "61   1861  no data  no data         108.47\n",
      "62   1862  no data  no data         106.62\n",
      "63   1863  no data  no data         100.91\n",
      "64   1864  no data  no data          95.23\n",
      "65   1865  no data  no data          91.06\n",
      "66   1866  no data  no data          86.95\n",
      "67   1867  no data  no data          87.67\n",
      "68   1868  no data  no data          84.58\n",
      "69   1869  no data  no data          83.12\n",
      "70   1870  no data  no data          77.35\n",
      "71   1871  no data  no data          71.71\n",
      "72   1872  no data  no data          67.41\n",
      "73   1873  no data  no data          61.84\n",
      "74   1874  no data  no data          63.08\n",
      "75   1875  no data  no data          63.65\n",
      "76   1876  no data  no data          65.43\n",
      "77   1877  no data  no data          65.81\n",
      "78   1878  no data  no data          67.46\n",
      "79   1879  no data  no data          70.28\n",
      "80   1880    24.22  no data           65.4\n",
      "81   1881     24.1  no data          64.36\n",
      "82   1882    23.63  no data          61.55\n",
      "83   1883    22.99  no data           61.5\n",
      "84   1884    23.56  no data          56.05\n",
      "85   1885    23.77  no data          57.79\n",
      "86   1886     23.9  no data          57.48\n",
      "87   1887    23.41  no data          55.43\n",
      "88   1888    22.69  no data          51.32\n",
      "89   1889    21.15  no data          47.15\n",
      "90   1890    19.39  no data           45.9\n",
      "91   1891    18.41  no data          46.43\n",
      "92   1892     18.3  no data          47.47\n",
      "93   1893    18.26  no data          47.39\n",
      "94   1894     21.1  no data          44.12\n",
      "95   1895     19.2  no data          43.11\n",
      "96   1896    18.59  no data           41.1\n",
      "97   1897    19.02  no data          40.38\n",
      "98   1898    17.81  no data          37.77\n",
      "99   1899    17.08  no data          35.09\n",
      "100  1900    16.47  no data          32.44\n",
      "101  1901    17.99  no data           35.8\n",
      "102  1902    17.56  no data          38.97\n",
      "103  1903    16.65  no data           41.2\n",
      "104  1904    16.35  no data          40.71\n",
      "105  1905    15.41  no data          39.03\n",
      "106  1906    15.52  no data          37.41\n",
      "107  1907    14.74  no data          35.33\n",
      "108  1908    14.34  no data          35.68\n",
      "109  1909    16.53  no data          34.88\n",
      "110  1910    17.49  no data          34.51\n",
      "111  1911    17.18  no data          31.61\n",
      "112  1912    16.52  no data          29.79\n",
      "113  1913    15.56  no data           27.9\n",
      "114  1914    14.27  no data          27.27\n",
      "115  1915     13.6  no data          39.28\n",
      "116  1916    12.24  no data          65.58\n",
      "117  1917    14.72  no data          97.85\n",
      "118  1918    12.66  no data          119.1\n",
      "119  1919    13.41  no data         142.77\n",
      "120  1920    12.52  no data         137.79\n",
      "121  1921    16.81  no data         158.41\n",
      "122  1922    20.81  no data         183.48\n",
      "123  1923    18.65  no data         195.54\n",
      "124  1924    17.27  no data         188.81\n",
      "125  1925    18.35  no data         176.97\n",
      "126  1926    20.72  no data         187.12\n",
      "127  1927     21.5  no data         177.45\n",
      "128  1928    21.46  no data         175.78\n",
      "129  1929     23.8    14.93         170.52\n",
      "130  1930    23.56  no data            171\n",
      "131  1931     23.9  no data         184.83\n",
      "132  1932    24.48  no data         190.15\n",
      "133  1933     22.9    23.35         193.97\n",
      "134  1934    22.35  no data         186.64\n",
      "135  1935    20.23  no data         178.09\n",
      "136  1936    18.98    31.43         170.19\n",
      "137  1937    17.91    31.26         158.69\n",
      "138  1938     16.6    31.23         155.08\n",
      "139  1939     15.3    37.42         149.68\n",
      "140  1940    14.62    36.18         121.06\n",
      "141  1941    12.45    33.37         133.69\n",
      "142  1942      9.9    33.61          153.2\n",
      "143  1943     9.89    30.79         173.99\n",
      "144  1944     9.03    29.35         200.63\n",
      "145  1945     10.6    27.14         234.69\n",
      "146  1946     9.98    26.57          269.8\n",
      "147  1947  no data  no data         264.12\n",
      "148  1948  no data  no data         239.57\n",
      "149  1949  no data    28.66         220.27\n",
      "150  1950  no data    38.73         216.92\n",
      "151  1951  no data  no data         196.76\n",
      "152  1952  no data  no data         180.86\n",
      "153  1953    31.06  no data         169.76\n",
      "154  1954    30.64    52.82         163.23\n",
      "155  1955    29.13    55.35         154.19\n",
      "156  1956    28.92    58.25         143.76\n",
      "157  1957  no data    60.53         135.73\n",
      "158  1958  no data  no data         131.13\n",
      "159  1959  no data    61.16         124.87\n",
      "160  1960    20.07    44.85         117.94\n",
      "161  1961    16.43    44.33         113.75\n",
      "162  1962    15.26     44.5         110.52\n",
      "163  1963    13.67    45.17         108.55\n",
      "164  1964    14.55    43.07         101.08\n",
      "165  1965    12.92    44.64          94.61\n",
      "166  1966    11.24    47.74          91.95\n",
      "167  1967    10.06    47.06          89.15\n",
      "168  1968     9.36    44.73          88.55\n",
      "169  1969     8.36    42.58          82.84\n",
      "170  1970     7.62    41.65          73.24\n",
      "171  1971     7.72    39.85          65.55\n",
      "172  1972     6.64    37.34          62.04\n",
      "173  1973     5.85    35.09          54.56\n",
      "174  1974     5.08    43.45           51.6\n",
      "175  1975     4.26    48.34          46.68\n",
      "176  1976     4.49     51.7          48.88\n",
      "177  1977     8.78    49.15          50.46\n",
      "178  1978     14.1    50.65          51.63\n",
      "179  1979    19.37    54.95           45.3\n",
      "180  1980    27.12    56.06          42.77\n",
      "181  1981    36.52     59.8          45.09\n",
      "182  1982    47.93    63.77          43.39\n",
      "183  1983    54.17    71.07          42.18\n",
      "184  1984    63.56    75.05          42.59\n",
      "185  1985    68.39    76.14          41.54\n",
      "186  1986    66.21    86.22          41.52\n",
      "187  1987    60.58    87.09          39.62\n",
      "188  1988    57.15    84.77          37.34\n",
      "189  1989    56.58    77.37          32.81\n",
      "190  1990    57.69    93.18          28.82\n",
      "191  1991    58.84    94.55           28.8\n",
      "192  1992    63.84    91.55          33.66\n",
      "193  1993    66.99    94.12          38.53\n",
      "194  1994    66.13    88.67          41.42\n",
      "195  1995    68.72    82.12          44.45\n",
      "196  1996    69.23    73.52          44.55\n",
      "197  1997  no data    64.33          43.87\n",
      "198  1998    60.28    53.58          41.64\n",
      "199  1999    56.76     48.5          39.55\n",
      "200  2000    52.35    37.78          36.98\n",
      "201  2001    48.51     35.5           34.3\n",
      "202  2002    49.08    32.12          34.23\n",
      "203  2003    46.15    30.94          35.76\n",
      "204  2004    44.18    29.63          38.66\n",
      "205  2005     37.4    27.35          40.01\n",
      "206  2006    31.54    24.81          41.02\n",
      "207  2007    27.34    25.01          42.21\n",
      "208  2008    33.39    44.34          50.27\n",
      "209  2009    40.37    61.68           64.2\n",
      "210  2010    42.88     86.3          75.74\n",
      "211  2011    46.41   109.61          81.32\n",
      "212  2012    45.19   119.48          84.82\n",
      "213  2013    44.65   119.47             86\n",
      "214  2014    44.77   105.25          87.94\n",
      "215  2015    45.53    78.68          88.98\n"
     ]
    }
   ],
   "source": [
    "# Set display options to show all rows and columns\n",
    "pd.set_option('display.max_rows', None)\n",
    "pd.set_option('display.max_columns', None)\n",
    "\n",
    "# Print the entire DataFrame\n",
    "print(df)\n",
    "\n",
    "# Reset display options to the default values (optional)\n",
    "pd.reset_option('display.max_rows')\n",
    "pd.reset_option('display.max_columns')"
   ]
  },
  {
   "cell_type": "code",
   "execution_count": 8,
   "id": "ef50ec4a",
   "metadata": {},
   "outputs": [
    {
     "name": "stdout",
     "output_type": "stream",
     "text": [
      "0    Year Denmark Ireland United Kingdom\n",
      "136  1936   18.98   31.43         170.19\n",
      "137  1937   17.91   31.26         158.69\n",
      "138  1938    16.6   31.23         155.08\n",
      "139  1939    15.3   37.42         149.68\n",
      "140  1940   14.62   36.18         121.06\n",
      "..    ...     ...     ...            ...\n",
      "211  2011   46.41  109.61          81.32\n",
      "212  2012   45.19  119.48          84.82\n",
      "213  2013   44.65  119.47             86\n",
      "214  2014   44.77  105.25          87.94\n",
      "215  2015   45.53   78.68          88.98\n",
      "\n",
      "[80 rows x 4 columns]\n"
     ]
    }
   ],
   "source": [
    "df = df.iloc[136:,:]\n",
    "\n",
    "print(df)"
   ]
  },
  {
   "cell_type": "code",
   "execution_count": 9,
   "id": "e894f013",
   "metadata": {},
   "outputs": [
    {
     "name": "stdout",
     "output_type": "stream",
     "text": [
      "0   Year Denmark Ireland United Kingdom\n",
      "0   1936   18.98   31.43         170.19\n",
      "1   1937   17.91   31.26         158.69\n",
      "2   1938    16.6   31.23         155.08\n",
      "3   1939    15.3   37.42         149.68\n",
      "4   1940   14.62   36.18         121.06\n",
      "..   ...     ...     ...            ...\n",
      "75  2011   46.41  109.61          81.32\n",
      "76  2012   45.19  119.48          84.82\n",
      "77  2013   44.65  119.47             86\n",
      "78  2014   44.77  105.25          87.94\n",
      "79  2015   45.53   78.68          88.98\n",
      "\n",
      "[80 rows x 4 columns]\n"
     ]
    }
   ],
   "source": [
    "df = df.reset_index()\n",
    "df = df.iloc[:,1:]\n",
    "print(df)"
   ]
  },
  {
   "cell_type": "code",
   "execution_count": null,
   "id": "83ce8ec3",
   "metadata": {},
   "outputs": [],
   "source": []
  },
  {
   "cell_type": "code",
   "execution_count": 10,
   "id": "c77a0931",
   "metadata": {},
   "outputs": [
    {
     "name": "stderr",
     "output_type": "stream",
     "text": [
      "C:\\Users\\conor\\AppData\\Local\\Temp\\ipykernel_9644\\909366121.py:7: FutureWarning: Downcasting behavior in `replace` is deprecated and will be removed in a future version. To retain the old behavior, explicitly call `result.infer_objects(copy=False)`. To opt-in to the future behavior, set `pd.set_option('future.no_silent_downcasting', True)`\n",
      "  df.replace('no data', pd.NA, inplace=True)\n"
     ]
    },
    {
     "data": {
      "image/png": "[encoded data removed]",
      "text/plain": [
       "<Figure size 1200x600 with 1 Axes>"
      ]
     },
     "metadata": {},
     "output_type": "display_data"
    }
   ],
   "source": [
    "import pandas as pd\n",
    "import matplotlib.pyplot as plt\n",
    "\n",
    "df['Year'] = pd.to_numeric(df['Year'], errors='coerce')\n",
    "\n",
    "# Convert \"no data\" values to NaN\n",
    "df.replace('no data', pd.NA, inplace=True)\n",
    "\n",
    "# Convert the data columns to numeric type, handling errors\n",
    "df[['Denmark', 'Ireland', 'United Kingdom']] = df[['Denmark', 'Ireland', 'United Kingdom']].apply(pd.to_numeric, errors='coerce')\n",
    "\n",
    "# Plotting the Line Chart, excluding rows with \"no data\" values\n",
    "df_filtered = df.dropna(subset=['Denmark', 'Ireland', 'United Kingdom'], how='any')\n",
    "\n",
    "\n",
    "# Adjust the size of the figure (width, height) using the figsize parameter\n",
    "fig, ax = plt.subplots(figsize=(12, 6))\n",
    "\n",
    "# Plotting each country's line with specific colors\n",
    "df_filtered.plot(x='Year', y='Denmark', marker='o', color='blue', ax=ax, label='Denmark')\n",
    "df_filtered.plot(x='Year', y='Ireland', marker='o', color='green', ax=ax, label='Ireland')\n",
    "df_filtered.plot(x='Year', y='United Kingdom', marker='o', color='red', ax=ax, label='United Kingdom')\n",
    "\n",
    "# Setting the title and labels\n",
    "plt.title('Levels of Public Debt over time')\n",
    "plt.xlabel('Year')\n",
    "plt.ylabel('Figure Values')\n",
    "\n",
    "# Adding the grid and showing the plot\n",
    "plt.grid(True)\n",
    "plt.show()\n"
   ]
  },
  {
   "cell_type": "code",
   "execution_count": 13,
   "id": "f28fa845",
   "metadata": {},
   "outputs": [
    {
     "ename": "ImportError",
     "evalue": "Pandas requires version '3.1.0' or newer of 'openpyxl' (version '3.0.10' currently installed).",
     "output_type": "error",
     "traceback": [
      "\u001b[1;31m---------------------------------------------------------------------------\u001b[0m",
      "\u001b[1;31mImportError\u001b[0m                               Traceback (most recent call last)",
      "Cell \u001b[1;32mIn[13], line 1\u001b[0m\n\u001b[1;32m----> 1\u001b[0m inflation_df \u001b[38;5;241m=\u001b[39m pd\u001b[38;5;241m.\u001b[39mread_excel(\u001b[38;5;124m'\u001b[39m\u001b[38;5;124mInflation_Rate_All_countries.xlsx\u001b[39m\u001b[38;5;124m'\u001b[39m, skiprows\u001b[38;5;241m=\u001b[39m\u001b[38;5;241m4\u001b[39m)\n\u001b[0;32m      2\u001b[0m \u001b[38;5;28mprint\u001b[39m(inflation_df)\n",
      "File \u001b[1;32m~\\AppData\\Roaming\\Python\\Python311\\site-packages\\pandas\\io\\excel\\_base.py:495\u001b[0m, in \u001b[0;36mread_excel\u001b[1;34m(io, sheet_name, header, names, index_col, usecols, dtype, engine, converters, true_values, false_values, skiprows, nrows, na_values, keep_default_na, na_filter, verbose, parse_dates, date_parser, date_format, thousands, decimal, comment, skipfooter, storage_options, dtype_backend, engine_kwargs)\u001b[0m\n\u001b[0;32m    493\u001b[0m \u001b[38;5;28;01mif\u001b[39;00m \u001b[38;5;129;01mnot\u001b[39;00m \u001b[38;5;28misinstance\u001b[39m(io, ExcelFile):\n\u001b[0;32m    494\u001b[0m     should_close \u001b[38;5;241m=\u001b[39m \u001b[38;5;28;01mTrue\u001b[39;00m\n\u001b[1;32m--> 495\u001b[0m     io \u001b[38;5;241m=\u001b[39m ExcelFile(\n\u001b[0;32m    496\u001b[0m         io,\n\u001b[0;32m    497\u001b[0m         storage_options\u001b[38;5;241m=\u001b[39mstorage_options,\n\u001b[0;32m    498\u001b[0m         engine\u001b[38;5;241m=\u001b[39mengine,\n\u001b[0;32m    499\u001b[0m         engine_kwargs\u001b[38;5;241m=\u001b[39mengine_kwargs,\n\u001b[0;32m    500\u001b[0m     )\n\u001b[0;32m    501\u001b[0m \u001b[38;5;28;01melif\u001b[39;00m engine \u001b[38;5;129;01mand\u001b[39;00m engine \u001b[38;5;241m!=\u001b[39m io\u001b[38;5;241m.\u001b[39mengine:\n\u001b[0;32m    502\u001b[0m     \u001b[38;5;28;01mraise\u001b[39;00m \u001b[38;5;167;01mValueError\u001b[39;00m(\n\u001b[0;32m    503\u001b[0m         \u001b[38;5;124m\"\u001b[39m\u001b[38;5;124mEngine should not be specified when passing \u001b[39m\u001b[38;5;124m\"\u001b[39m\n\u001b[0;32m    504\u001b[0m         \u001b[38;5;124m\"\u001b[39m\u001b[38;5;124man ExcelFile - ExcelFile already has the engine set\u001b[39m\u001b[38;5;124m\"\u001b[39m\n\u001b[0;32m    505\u001b[0m     )\n",
      "File \u001b[1;32m~\\AppData\\Roaming\\Python\\Python311\\site-packages\\pandas\\io\\excel\\_base.py:1567\u001b[0m, in \u001b[0;36mExcelFile.__init__\u001b[1;34m(self, path_or_buffer, engine, storage_options, engine_kwargs)\u001b[0m\n\u001b[0;32m   1564\u001b[0m \u001b[38;5;28mself\u001b[39m\u001b[38;5;241m.\u001b[39mengine \u001b[38;5;241m=\u001b[39m engine\n\u001b[0;32m   1565\u001b[0m \u001b[38;5;28mself\u001b[39m\u001b[38;5;241m.\u001b[39mstorage_options \u001b[38;5;241m=\u001b[39m storage_options\n\u001b[1;32m-> 1567\u001b[0m \u001b[38;5;28mself\u001b[39m\u001b[38;5;241m.\u001b[39m_reader \u001b[38;5;241m=\u001b[39m \u001b[38;5;28mself\u001b[39m\u001b[38;5;241m.\u001b[39m_engines[engine](\n\u001b[0;32m   1568\u001b[0m     \u001b[38;5;28mself\u001b[39m\u001b[38;5;241m.\u001b[39m_io,\n\u001b[0;32m   1569\u001b[0m     storage_options\u001b[38;5;241m=\u001b[39mstorage_options,\n\u001b[0;32m   1570\u001b[0m     engine_kwargs\u001b[38;5;241m=\u001b[39mengine_kwargs,\n\u001b[0;32m   1571\u001b[0m )\n",
      "File \u001b[1;32m~\\AppData\\Roaming\\Python\\Python311\\site-packages\\pandas\\io\\excel\\_openpyxl.py:552\u001b[0m, in \u001b[0;36mOpenpyxlReader.__init__\u001b[1;34m(self, filepath_or_buffer, storage_options, engine_kwargs)\u001b[0m\n\u001b[0;32m    534\u001b[0m \u001b[38;5;129m@doc\u001b[39m(storage_options\u001b[38;5;241m=\u001b[39m_shared_docs[\u001b[38;5;124m\"\u001b[39m\u001b[38;5;124mstorage_options\u001b[39m\u001b[38;5;124m\"\u001b[39m])\n\u001b[0;32m    535\u001b[0m \u001b[38;5;28;01mdef\u001b[39;00m \u001b[38;5;21m__init__\u001b[39m(\n\u001b[0;32m    536\u001b[0m     \u001b[38;5;28mself\u001b[39m,\n\u001b[1;32m   (...)\u001b[0m\n\u001b[0;32m    539\u001b[0m     engine_kwargs: \u001b[38;5;28mdict\u001b[39m \u001b[38;5;241m|\u001b[39m \u001b[38;5;28;01mNone\u001b[39;00m \u001b[38;5;241m=\u001b[39m \u001b[38;5;28;01mNone\u001b[39;00m,\n\u001b[0;32m    540\u001b[0m ) \u001b[38;5;241m-\u001b[39m\u001b[38;5;241m>\u001b[39m \u001b[38;5;28;01mNone\u001b[39;00m:\n\u001b[0;32m    541\u001b[0m \u001b[38;5;250m    \u001b[39m\u001b[38;5;124;03m\"\"\"\u001b[39;00m\n\u001b[0;32m    542\u001b[0m \u001b[38;5;124;03m    Reader using openpyxl engine.\u001b[39;00m\n\u001b[0;32m    543\u001b[0m \n\u001b[1;32m   (...)\u001b[0m\n\u001b[0;32m    550\u001b[0m \u001b[38;5;124;03m        Arbitrary keyword arguments passed to excel engine.\u001b[39;00m\n\u001b[0;32m    551\u001b[0m \u001b[38;5;124;03m    \"\"\"\u001b[39;00m\n\u001b[1;32m--> 552\u001b[0m     import_optional_dependency(\u001b[38;5;124m\"\u001b[39m\u001b[38;5;124mopenpyxl\u001b[39m\u001b[38;5;124m\"\u001b[39m)\n\u001b[0;32m    553\u001b[0m     \u001b[38;5;28msuper\u001b[39m()\u001b[38;5;241m.\u001b[39m\u001b[38;5;21m__init__\u001b[39m(\n\u001b[0;32m    554\u001b[0m         filepath_or_buffer,\n\u001b[0;32m    555\u001b[0m         storage_options\u001b[38;5;241m=\u001b[39mstorage_options,\n\u001b[0;32m    556\u001b[0m         engine_kwargs\u001b[38;5;241m=\u001b[39mengine_kwargs,\n\u001b[0;32m    557\u001b[0m     )\n",
      "File \u001b[1;32m~\\AppData\\Roaming\\Python\\Python311\\site-packages\\pandas\\compat\\_optional.py:164\u001b[0m, in \u001b[0;36mimport_optional_dependency\u001b[1;34m(name, extra, errors, min_version)\u001b[0m\n\u001b[0;32m    162\u001b[0m     \u001b[38;5;28;01mreturn\u001b[39;00m \u001b[38;5;28;01mNone\u001b[39;00m\n\u001b[0;32m    163\u001b[0m \u001b[38;5;28;01melif\u001b[39;00m errors \u001b[38;5;241m==\u001b[39m \u001b[38;5;124m\"\u001b[39m\u001b[38;5;124mraise\u001b[39m\u001b[38;5;124m\"\u001b[39m:\n\u001b[1;32m--> 164\u001b[0m     \u001b[38;5;28;01mraise\u001b[39;00m \u001b[38;5;167;01mImportError\u001b[39;00m(msg)\n\u001b[0;32m    165\u001b[0m \u001b[38;5;28;01melse\u001b[39;00m:\n\u001b[0;32m    166\u001b[0m     \u001b[38;5;28;01mreturn\u001b[39;00m \u001b[38;5;28;01mNone\u001b[39;00m\n",
      "\u001b[1;31mImportError\u001b[0m: Pandas requires version '3.1.0' or newer of 'openpyxl' (version '3.0.10' currently installed)."
     ]
    }
   ],
   "source": [
    "inflation_df = pd.read_excel('Inflation_Rate_All_countries.xlsx', skiprows=4)\n",
    "print(inflation_df)"
   ]
  },
  {
   "cell_type": "code",
   "execution_count": null,
   "id": "ec96aa7a",
   "metadata": {},
   "outputs": [],
   "source": [
    "inflation_df_filtered = inflation_df[inflation_df['Country Name'].isin(countries_to_keep)]\n",
    "print(inflation_df_filtered)"
   ]
  },
  {
   "cell_type": "code",
   "execution_count": null,
   "id": "f0c40260",
   "metadata": {},
   "outputs": [],
   "source": [
    "inflation_df_filtered = inflation_df_filtered.drop(columns=['Country Code', 'Indicator Code', 'Indicator Name'])\n",
    "print(inflation_df_filtered)"
   ]
  },
  {
   "cell_type": "code",
   "execution_count": null,
   "id": "980ee529",
   "metadata": {},
   "outputs": [],
   "source": [
    "inflation_df_transposed = inflation_df_filtered.transpose()\n",
    "\n",
    "print(inflation_df_transposed)"
   ]
  },
  {
   "cell_type": "code",
   "execution_count": null,
   "id": "593c4f15",
   "metadata": {},
   "outputs": [],
   "source": [
    "inflation_df_transposed_reset = inflation_df_transposed.reset_index()\n",
    "print(inflation_df_transposed_reset)"
   ]
  },
  {
   "cell_type": "code",
   "execution_count": null,
   "id": "0fdea7ac",
   "metadata": {},
   "outputs": [],
   "source": [
    "headers = inflation_df_transposed_reset.iloc[0]\n",
    "inflation_df = pd.DataFrame(inflation_df_transposed_reset.values[1:], columns = headers)\n",
    "inflation_df = inflation_df.rename(columns={\"Country Name\": \"Year\"})\n",
    "print(inflation_df)"
   ]
  },
  {
   "cell_type": "code",
   "execution_count": null,
   "id": "25c9032f",
   "metadata": {},
   "outputs": [],
   "source": [
    "import pandas as pd\n",
    "import matplotlib.pyplot as plt\n",
    "\n",
    "# Adjust the size of the figure (width, height) using the figsize parameter\n",
    "fig, ax = plt.subplots(figsize=(12, 6))\n",
    "\n",
    "# Plotting each country's line with specific colors\n",
    "inflation_df.plot(x='Year', y='Denmark', marker='o', color='blue', ax=ax, label='Denmark')\n",
    "inflation_df.plot(x='Year', y='Ireland', marker='o', color='green', ax=ax, label='Ireland')\n",
    "inflation_df.plot(x='Year', y='United Kingdom', marker='o', color='red', ax=ax, label='United Kingdom')\n",
    "\n",
    "# Setting the title and labels\n",
    "plt.title('Levels of Inflation over time')\n",
    "plt.xlabel('Year')\n",
    "plt.ylabel('Figure Values')\n",
    "\n",
    "# Adding the grid and showing the plot\n",
    "plt.grid(True)\n",
    "plt.show()\n"
   ]
  },
  {
   "cell_type": "code",
   "execution_count": null,
   "id": "06acd617",
   "metadata": {},
   "outputs": [],
   "source": [
    "GDP_df = pd.read_csv('GDP_Growth_all_countries.csv', skiprows=4)\n",
    "print(GDP_df)"
   ]
  },
  {
   "cell_type": "code",
   "execution_count": null,
   "id": "6087e45c",
   "metadata": {},
   "outputs": [],
   "source": [
    "GDP_df.head"
   ]
  },
  {
   "cell_type": "code",
   "execution_count": null,
   "id": "3c7e224e",
   "metadata": {},
   "outputs": [],
   "source": [
    "GDP_df_filtered = GDP_df[GDP_df['Country Name'].isin(countries_to_keep)]\n",
    "GDP_df_filtered.head()"
   ]
  },
  {
   "cell_type": "code",
   "execution_count": null,
   "id": "e5660267",
   "metadata": {},
   "outputs": [],
   "source": [
    "GDP_df_filtered = GDP_df_filtered.drop(columns=['Country Code', 'Indicator Code', 'Indicator Name'])\n",
    "GDP_df_filtered.head()"
   ]
  },
  {
   "cell_type": "code",
   "execution_count": null,
   "id": "a9141f11",
   "metadata": {},
   "outputs": [],
   "source": [
    "GDP_df_transposed = GDP_df_filtered.transpose()\n",
    "\n",
    "GDP_df_transposed.head()"
   ]
  },
  {
   "cell_type": "code",
   "execution_count": null,
   "id": "5deccdcb",
   "metadata": {},
   "outputs": [],
   "source": [
    "GDP_df_transposed_reset = GDP_df_transposed.reset_index()\n",
    "GDP_df_transposed.head()"
   ]
  },
  {
   "cell_type": "code",
   "execution_count": null,
   "id": "68ba9863",
   "metadata": {},
   "outputs": [],
   "source": [
    "headers = GDP_df_transposed_reset.iloc[0]\n",
    "GDP_df = pd.DataFrame(GDP_df_transposed_reset.values[1:], columns = headers)\n",
    "GDP_df = GDP_df.rename(columns={\"Country Name\": \"Year\"})\n",
    "GDP_df.head()"
   ]
  },
  {
   "cell_type": "code",
   "execution_count": null,
   "id": "923d63a1",
   "metadata": {},
   "outputs": [],
   "source": [
    "import pandas as pd\n",
    "import matplotlib.pyplot as plt\n",
    "\n",
    "# Adjust the size of the figure (width, height) using the figsize parameter\n",
    "fig, ax = plt.subplots(figsize=(12, 6))\n",
    "\n",
    "# Plotting each country's line with specific colors\n",
    "GDP_df.plot(x='Year', y='Denmark', marker='o', color='blue', ax=ax, label='Denmark')\n",
    "GDP_df.plot(x='Year', y='Ireland', marker='o', color='green', ax=ax, label='Ireland')\n",
    "GDP_df.plot(x='Year', y='United Kingdom', marker='o', color='red', ax=ax, label='United Kingdom')\n",
    "\n",
    "# Setting the title and labels\n",
    "plt.title('Levels of GDP over time')\n",
    "plt.xlabel('Year')\n",
    "plt.ylabel('Figure Values')\n",
    "\n",
    "# Adding the grid and showing the plot\n",
    "plt.grid(True)\n",
    "plt.show()\n"
   ]
  },
  {
   "cell_type": "code",
   "execution_count": null,
   "id": "cb02fd9b",
   "metadata": {},
   "outputs": [],
   "source": [
    "df_filtered.head()\n",
    "df_filtered = df_filtered.rename(columns={\"Denmark\": \"Denmark_Public_Debt_Pc_of_GDP\"})\n",
    "df_filtered = df_filtered.rename(columns={\"United Kingdom\": \"United Kingdom_Public_Debt_Pc_of_GDP\"})\n",
    "df_filtered = df_filtered.rename(columns={\"Ireland\": \"Ireland_Public_Debt_Pc_of_GDP\"})\n",
    "df_filtered.head()"
   ]
  },
  {
   "cell_type": "code",
   "execution_count": null,
   "id": "f745136d",
   "metadata": {},
   "outputs": [],
   "source": [
    "\n",
    "inflation_df = inflation_df.rename(columns={\"Denmark\": \"Denmark_Inflation\"})\n",
    "inflation_df = inflation_df.rename(columns={\"United Kingdom\": \"United Kingdom_Inflation\"})\n",
    "inflation_df = inflation_df.rename(columns={\"Ireland\": \"Ireland_Inflation\"})\n",
    "inflation_df.head()"
   ]
  },
  {
   "cell_type": "code",
   "execution_count": null,
   "id": "f6813ec1",
   "metadata": {},
   "outputs": [],
   "source": [
    "GDP_df = GDP_df.rename(columns={\"Denmark\": \"Denmark_GDP\"})\n",
    "GDP_df = GDP_df.rename(columns={\"United Kingdom\": \"United Kingdom_GDP\"})\n",
    "GDP_df = GDP_df.rename(columns={\"Ireland\": \"Ireland_GDP\"})\n",
    "GDP_df.head()"
   ]
  },
  {
   "cell_type": "code",
   "execution_count": null,
   "id": "f021d0bd",
   "metadata": {},
   "outputs": [],
   "source": [
    "merged_df = pd.merge(df_filtered, inflation_df, on='Year', how='outer')\n",
    "merged_df['Year'] = merged_df['Year'].astype(int)\n",
    "merged_df.head()"
   ]
  },
  {
   "cell_type": "code",
   "execution_count": null,
   "id": "bcece059",
   "metadata": {},
   "outputs": [],
   "source": [
    "distinct_years = GDP_df['Year'].unique()\n",
    "print(distinct_years)\n"
   ]
  },
  {
   "cell_type": "code",
   "execution_count": null,
   "id": "db896939",
   "metadata": {},
   "outputs": [],
   "source": [
    "GDP_df = GDP_df[GDP_df['Year'] != 'Unnamed: 67']\n",
    "\n",
    "GDP_df.reset_index(drop=True, inplace=True)"
   ]
  },
  {
   "cell_type": "code",
   "execution_count": null,
   "id": "ec2ad12c",
   "metadata": {},
   "outputs": [],
   "source": [
    "distinct_years = GDP_df['Year'].unique()\n",
    "print(distinct_years)"
   ]
  },
  {
   "cell_type": "code",
   "execution_count": null,
   "id": "99d0a0fd",
   "metadata": {},
   "outputs": [],
   "source": [
    "GDP_df['Year'] = GDP_df['Year'].astype(int)\n",
    "merged_df2 = pd.merge(merged_df, GDP_df, on='Year', how='outer')\n",
    "merged_df2['Year'] = merged_df2['Year'].astype(int)\n",
    "merged_df2.head()"
   ]
  },
  {
   "cell_type": "code",
   "execution_count": null,
   "id": "06424f04",
   "metadata": {},
   "outputs": [],
   "source": [
    "#merged_df2.to_csv('Merged_Datasets.csv', index=False)"
   ]
  },
  {
   "cell_type": "code",
   "execution_count": null,
   "id": "b82d55e0",
   "metadata": {},
   "outputs": [],
   "source": []
  }
 ],
 "metadata": {
  "kernelspec": {
   "display_name": "Python 3 (ipykernel)",
   "language": "python",
   "name": "python3"
  },
  "language_info": {
   "codemirror_mode": {
    "name": "ipython",
    "version": 3
   },
   "file_extension": ".py",
   "mimetype": "text/x-python",
   "name": "python",
   "nbconvert_exporter": "python",
   "pygments_lexer": "ipython3",
   "version": "3.11.5"
  }
 },
 "nbformat": 4,
 "nbformat_minor": 5
}
