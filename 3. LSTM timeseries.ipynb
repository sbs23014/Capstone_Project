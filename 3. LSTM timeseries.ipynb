{
 "cells": [
  {
   "cell_type": "code",
   "execution_count": 23,
   "id": "517b56b6",
   "metadata": {},
   "outputs": [
    {
     "data": {
      "text/html": [
       "<div>\n",
       "<style scoped>\n",
       "    .dataframe tbody tr th:only-of-type {\n",
       "        vertical-align: middle;\n",
       "    }\n",
       "\n",
       "    .dataframe tbody tr th {\n",
       "        vertical-align: top;\n",
       "    }\n",
       "\n",
       "    .dataframe thead th {\n",
       "        text-align: right;\n",
       "    }\n",
       "</style>\n",
       "<table border=\"1\" class=\"dataframe\">\n",
       "  <thead>\n",
       "    <tr style=\"text-align: right;\">\n",
       "      <th></th>\n",
       "      <th>Year</th>\n",
       "      <th>Denmark_Public_Debt_Pc_of_GDP</th>\n",
       "      <th>Ireland_Public_Debt_Pc_of_GDP</th>\n",
       "      <th>United Kingdom_Public_Debt_Pc_of_GDP</th>\n",
       "      <th>Denmark_Inflation</th>\n",
       "      <th>United Kingdom_Inflation</th>\n",
       "      <th>Ireland_Inflation</th>\n",
       "      <th>Denmark_GDP</th>\n",
       "      <th>United Kingdom_GDP</th>\n",
       "      <th>Ireland_GDP</th>\n",
       "    </tr>\n",
       "  </thead>\n",
       "  <tbody>\n",
       "    <tr>\n",
       "      <th>0</th>\n",
       "      <td>1970</td>\n",
       "      <td>7.62</td>\n",
       "      <td>41.65</td>\n",
       "      <td>73.24</td>\n",
       "      <td>6.514841</td>\n",
       "      <td>6.366568</td>\n",
       "      <td>8.207190</td>\n",
       "      <td>1.596842</td>\n",
       "      <td>4.308886</td>\n",
       "      <td>3.469886</td>\n",
       "    </tr>\n",
       "    <tr>\n",
       "      <th>1</th>\n",
       "      <td>1971</td>\n",
       "      <td>7.72</td>\n",
       "      <td>39.85</td>\n",
       "      <td>65.55</td>\n",
       "      <td>5.869870</td>\n",
       "      <td>9.444837</td>\n",
       "      <td>8.961749</td>\n",
       "      <td>3.004996</td>\n",
       "      <td>3.504717</td>\n",
       "      <td>3.469886</td>\n",
       "    </tr>\n",
       "    <tr>\n",
       "      <th>2</th>\n",
       "      <td>1972</td>\n",
       "      <td>6.64</td>\n",
       "      <td>37.34</td>\n",
       "      <td>62.04</td>\n",
       "      <td>6.562361</td>\n",
       "      <td>7.071098</td>\n",
       "      <td>8.605817</td>\n",
       "      <td>3.929385</td>\n",
       "      <td>4.321668</td>\n",
       "      <td>6.489808</td>\n",
       "    </tr>\n",
       "    <tr>\n",
       "      <th>3</th>\n",
       "      <td>1973</td>\n",
       "      <td>5.85</td>\n",
       "      <td>35.09</td>\n",
       "      <td>54.56</td>\n",
       "      <td>9.303383</td>\n",
       "      <td>9.196033</td>\n",
       "      <td>11.414850</td>\n",
       "      <td>4.092946</td>\n",
       "      <td>6.523848</td>\n",
       "      <td>4.721428</td>\n",
       "    </tr>\n",
       "    <tr>\n",
       "      <th>4</th>\n",
       "      <td>1974</td>\n",
       "      <td>5.08</td>\n",
       "      <td>43.45</td>\n",
       "      <td>51.60</td>\n",
       "      <td>15.275206</td>\n",
       "      <td>16.044011</td>\n",
       "      <td>16.976127</td>\n",
       "      <td>-1.122394</td>\n",
       "      <td>-2.484404</td>\n",
       "      <td>4.260231</td>\n",
       "    </tr>\n",
       "  </tbody>\n",
       "</table>\n",
       "</div>"
      ],
      "text/plain": [
       "   Year  Denmark_Public_Debt_Pc_of_GDP  Ireland_Public_Debt_Pc_of_GDP  \\\n",
       "0  1970                           7.62                          41.65   \n",
       "1  1971                           7.72                          39.85   \n",
       "2  1972                           6.64                          37.34   \n",
       "3  1973                           5.85                          35.09   \n",
       "4  1974                           5.08                          43.45   \n",
       "\n",
       "   United Kingdom_Public_Debt_Pc_of_GDP  Denmark_Inflation  \\\n",
       "0                                 73.24           6.514841   \n",
       "1                                 65.55           5.869870   \n",
       "2                                 62.04           6.562361   \n",
       "3                                 54.56           9.303383   \n",
       "4                                 51.60          15.275206   \n",
       "\n",
       "   United Kingdom_Inflation  Ireland_Inflation  Denmark_GDP  \\\n",
       "0                  6.366568           8.207190     1.596842   \n",
       "1                  9.444837           8.961749     3.004996   \n",
       "2                  7.071098           8.605817     3.929385   \n",
       "3                  9.196033          11.414850     4.092946   \n",
       "4                 16.044011          16.976127    -1.122394   \n",
       "\n",
       "   United Kingdom_GDP  Ireland_GDP  \n",
       "0            4.308886     3.469886  \n",
       "1            3.504717     3.469886  \n",
       "2            4.321668     6.489808  \n",
       "3            6.523848     4.721428  \n",
       "4           -2.484404     4.260231  "
      ]
     },
     "execution_count": 23,
     "metadata": {},
     "output_type": "execute_result"
    }
   ],
   "source": [
    "import pandas as pd\n",
    "# Load the dataset\n",
    "file_path = 'Final_data_file.csv'  # Update the path accordingly\n",
    "data = pd.read_csv(file_path)\n",
    "\n",
    "# Display the first few rows of the dataframe\n",
    "data.head()"
   ]
  },
  {
   "cell_type": "code",
   "execution_count": 24,
   "id": "1be65ff6",
   "metadata": {},
   "outputs": [
    {
     "data": {
      "text/html": [
       "<div>\n",
       "<style scoped>\n",
       "    .dataframe tbody tr th:only-of-type {\n",
       "        vertical-align: middle;\n",
       "    }\n",
       "\n",
       "    .dataframe tbody tr th {\n",
       "        vertical-align: top;\n",
       "    }\n",
       "\n",
       "    .dataframe thead th {\n",
       "        text-align: right;\n",
       "    }\n",
       "</style>\n",
       "<table border=\"1\" class=\"dataframe\">\n",
       "  <thead>\n",
       "    <tr style=\"text-align: right;\">\n",
       "      <th></th>\n",
       "      <th>Year</th>\n",
       "      <th>Ireland_Public_Debt_Pc_of_GDP</th>\n",
       "      <th>Denmark_Public_Debt_Pc_of_GDP</th>\n",
       "      <th>United Kingdom_Public_Debt_Pc_of_GDP</th>\n",
       "      <th>Denmark_Inflation</th>\n",
       "      <th>United Kingdom_Inflation</th>\n",
       "      <th>Ireland_Inflation</th>\n",
       "      <th>Denmark_GDP</th>\n",
       "      <th>United Kingdom_GDP</th>\n",
       "      <th>Ireland_GDP</th>\n",
       "    </tr>\n",
       "  </thead>\n",
       "  <tbody>\n",
       "    <tr>\n",
       "      <th>0</th>\n",
       "      <td>1970</td>\n",
       "      <td>41.65</td>\n",
       "      <td>7.62</td>\n",
       "      <td>73.24</td>\n",
       "      <td>6.514841</td>\n",
       "      <td>6.366568</td>\n",
       "      <td>8.207190</td>\n",
       "      <td>1.596842</td>\n",
       "      <td>4.308886</td>\n",
       "      <td>3.469886</td>\n",
       "    </tr>\n",
       "    <tr>\n",
       "      <th>1</th>\n",
       "      <td>1971</td>\n",
       "      <td>39.85</td>\n",
       "      <td>7.72</td>\n",
       "      <td>65.55</td>\n",
       "      <td>5.869870</td>\n",
       "      <td>9.444837</td>\n",
       "      <td>8.961749</td>\n",
       "      <td>3.004996</td>\n",
       "      <td>3.504717</td>\n",
       "      <td>3.469886</td>\n",
       "    </tr>\n",
       "    <tr>\n",
       "      <th>2</th>\n",
       "      <td>1972</td>\n",
       "      <td>37.34</td>\n",
       "      <td>6.64</td>\n",
       "      <td>62.04</td>\n",
       "      <td>6.562361</td>\n",
       "      <td>7.071098</td>\n",
       "      <td>8.605817</td>\n",
       "      <td>3.929385</td>\n",
       "      <td>4.321668</td>\n",
       "      <td>6.489808</td>\n",
       "    </tr>\n",
       "    <tr>\n",
       "      <th>3</th>\n",
       "      <td>1973</td>\n",
       "      <td>35.09</td>\n",
       "      <td>5.85</td>\n",
       "      <td>54.56</td>\n",
       "      <td>9.303383</td>\n",
       "      <td>9.196033</td>\n",
       "      <td>11.414850</td>\n",
       "      <td>4.092946</td>\n",
       "      <td>6.523848</td>\n",
       "      <td>4.721428</td>\n",
       "    </tr>\n",
       "    <tr>\n",
       "      <th>4</th>\n",
       "      <td>1974</td>\n",
       "      <td>43.45</td>\n",
       "      <td>5.08</td>\n",
       "      <td>51.60</td>\n",
       "      <td>15.275206</td>\n",
       "      <td>16.044011</td>\n",
       "      <td>16.976127</td>\n",
       "      <td>-1.122394</td>\n",
       "      <td>-2.484404</td>\n",
       "      <td>4.260231</td>\n",
       "    </tr>\n",
       "  </tbody>\n",
       "</table>\n",
       "</div>"
      ],
      "text/plain": [
       "   Year  Ireland_Public_Debt_Pc_of_GDP  Denmark_Public_Debt_Pc_of_GDP  \\\n",
       "0  1970                          41.65                           7.62   \n",
       "1  1971                          39.85                           7.72   \n",
       "2  1972                          37.34                           6.64   \n",
       "3  1973                          35.09                           5.85   \n",
       "4  1974                          43.45                           5.08   \n",
       "\n",
       "   United Kingdom_Public_Debt_Pc_of_GDP  Denmark_Inflation  \\\n",
       "0                                 73.24           6.514841   \n",
       "1                                 65.55           5.869870   \n",
       "2                                 62.04           6.562361   \n",
       "3                                 54.56           9.303383   \n",
       "4                                 51.60          15.275206   \n",
       "\n",
       "   United Kingdom_Inflation  Ireland_Inflation  Denmark_GDP  \\\n",
       "0                  6.366568           8.207190     1.596842   \n",
       "1                  9.444837           8.961749     3.004996   \n",
       "2                  7.071098           8.605817     3.929385   \n",
       "3                  9.196033          11.414850     4.092946   \n",
       "4                 16.044011          16.976127    -1.122394   \n",
       "\n",
       "   United Kingdom_GDP  Ireland_GDP  \n",
       "0            4.308886     3.469886  \n",
       "1            3.504717     3.469886  \n",
       "2            4.321668     6.489808  \n",
       "3            6.523848     4.721428  \n",
       "4           -2.484404     4.260231  "
      ]
     },
     "execution_count": 24,
     "metadata": {},
     "output_type": "execute_result"
    }
   ],
   "source": [
    "#Moving the target variable to the start of the dataframe\n",
    "data.insert(1, 'Ireland_Public_Debt_Pc_of_GDP2', data['Ireland_Public_Debt_Pc_of_GDP'])\n",
    "data.drop(columns=['Ireland_Public_Debt_Pc_of_GDP'], inplace=True)\n",
    "data.rename(columns={'Ireland_Public_Debt_Pc_of_GDP2': 'Ireland_Public_Debt_Pc_of_GDP'}, inplace=True)\n",
    "\n",
    "data.head()"
   ]
  },
  {
   "cell_type": "code",
   "execution_count": 25,
   "id": "1e8404eb",
   "metadata": {},
   "outputs": [],
   "source": [
    "import numpy as np\n",
    "from keras.models import Sequential\n",
    "from keras.layers import LSTM\n",
    "from keras.layers import Dense, Dropout\n",
    "from matplotlib import pyplot as plt\n",
    "from sklearn.preprocessing import StandardScaler\n",
    "import seaborn as sns"
   ]
  },
  {
   "cell_type": "code",
   "execution_count": 28,
   "id": "d00a71db",
   "metadata": {},
   "outputs": [],
   "source": [
    "#data['Year'] = pd.to_datetime(data['Year'])\n",
    "train_dates = (data['Year'])"
   ]
  },
  {
   "cell_type": "code",
   "execution_count": 29,
   "id": "3a9a9d07",
   "metadata": {},
   "outputs": [
    {
     "name": "stdout",
     "output_type": "stream",
     "text": [
      "0     1970\n",
      "1     1971\n",
      "2     1972\n",
      "3     1973\n",
      "4     1974\n",
      "5     1975\n",
      "6     1976\n",
      "7     1977\n",
      "8     1978\n",
      "9     1979\n",
      "10    1980\n",
      "11    1981\n",
      "12    1982\n",
      "13    1983\n",
      "14    1984\n",
      "15    1985\n",
      "16    1986\n",
      "17    1987\n",
      "18    1988\n",
      "19    1989\n",
      "20    1990\n",
      "21    1991\n",
      "22    1992\n",
      "23    1993\n",
      "24    1994\n",
      "25    1995\n",
      "26    1996\n",
      "27    1997\n",
      "28    1998\n",
      "29    1999\n",
      "30    2000\n",
      "31    2001\n",
      "32    2002\n",
      "33    2003\n",
      "34    2004\n",
      "35    2005\n",
      "36    2006\n",
      "37    2007\n",
      "38    2008\n",
      "39    2009\n",
      "40    2010\n",
      "41    2011\n",
      "42    2012\n",
      "43    2013\n",
      "44    2014\n",
      "45    2015\n",
      "Name: Year, dtype: int64\n"
     ]
    }
   ],
   "source": [
    "print(train_dates)"
   ]
  },
  {
   "cell_type": "code",
   "execution_count": 30,
   "id": "3c123ea0",
   "metadata": {},
   "outputs": [],
   "source": [
    "cols = list(data)[1:10]"
   ]
  },
  {
   "cell_type": "code",
   "execution_count": 31,
   "id": "b0eb8d80",
   "metadata": {},
   "outputs": [
    {
     "name": "stdout",
     "output_type": "stream",
     "text": [
      "['Ireland_Public_Debt_Pc_of_GDP', 'Denmark_Public_Debt_Pc_of_GDP', 'United Kingdom_Public_Debt_Pc_of_GDP', 'Denmark_Inflation', 'United Kingdom_Inflation', 'Ireland_Inflation', 'Denmark_GDP', 'United Kingdom_GDP', 'Ireland_GDP']\n"
     ]
    }
   ],
   "source": [
    "print(cols)"
   ]
  },
  {
   "cell_type": "code",
   "execution_count": 32,
   "id": "a2c189bd",
   "metadata": {},
   "outputs": [],
   "source": [
    "df_for_training = data[cols].astype(float)"
   ]
  },
  {
   "cell_type": "code",
   "execution_count": 33,
   "id": "607d74a1",
   "metadata": {},
   "outputs": [
    {
     "data": {
      "image/png": "[encoded data removed]",
      "text/plain": [
       "<Figure size 640x480 with 1 Axes>"
      ]
     },
     "metadata": {},
     "output_type": "display_data"
    }
   ],
   "source": [
    "df_for_plot=df_for_training\n",
    "\n",
    "ax = df_for_plot.plot.line()\n",
    "\n",
    "# Move the legend to the side\n",
    "ax.legend(loc='center left', bbox_to_anchor=(1, 0.5))\n",
    "\n",
    "# Show the plot\n",
    "plt.show()"
   ]
  },
  {
   "cell_type": "code",
   "execution_count": 34,
   "id": "a783d821",
   "metadata": {},
   "outputs": [],
   "source": [
    "scaler = StandardScaler()\n",
    "scaler = scaler.fit(df_for_training)\n",
    "df_for_training_scaled = scaler.transform(df_for_training)"
   ]
  },
  {
   "cell_type": "code",
   "execution_count": 35,
   "id": "a628e86e",
   "metadata": {},
   "outputs": [
    {
     "name": "stdout",
     "output_type": "stream",
     "text": [
      "trainX shape ==(39, 7, 9).\n",
      "trainY shape ==(39, 1).\n"
     ]
    }
   ],
   "source": [
    "trainX = []\n",
    "trainY = []\n",
    "\n",
    "n_future = 1\n",
    "n_past = 7\n",
    "\n",
    "for i in range(n_past, len(df_for_training_scaled) - n_future + 1):\n",
    "    trainX.append(df_for_training_scaled[i-n_past:i, 0:df_for_training.shape[1]])\n",
    "    trainY.append(df_for_training_scaled[i+n_future - 1:i+n_future,0])\n",
    "\n",
    "trainX, trainY = np.array(trainX), np.array(trainY)\n",
    "\n",
    "print('trainX shape =={}.'.format(trainX.shape))\n",
    "print('trainY shape =={}.'.format(trainY.shape))"
   ]
  },
  {
   "cell_type": "code",
   "execution_count": 72,
   "id": "89593862",
   "metadata": {},
   "outputs": [
    {
     "name": "stdout",
     "output_type": "stream",
     "text": [
      "[-0.56913319]\n"
     ]
    }
   ],
   "source": [
    "print(trainY[0,:])"
   ]
  },
  {
   "cell_type": "code",
   "execution_count": 55,
   "id": "ceffc328",
   "metadata": {},
   "outputs": [],
   "source": [
    "arr = np.array([[1, 2, 3], [4, 5, 6]])"
   ]
  },
  {
   "cell_type": "code",
   "execution_count": 61,
   "id": "aee59b38",
   "metadata": {},
   "outputs": [
    {
     "name": "stdout",
     "output_type": "stream",
     "text": [
      "[[1 2 3]\n",
      " [4 5 6]]\n"
     ]
    }
   ],
   "source": [
    "print(arr[:])"
   ]
  },
  {
   "cell_type": "code",
   "execution_count": 68,
   "id": "3cd548a7",
   "metadata": {},
   "outputs": [
    {
     "name": "stdout",
     "output_type": "stream",
     "text": [
      "[[3]\n",
      " [6]]\n"
     ]
    }
   ],
   "source": [
    "print(arr[0:4,2:3])"
   ]
  },
  {
   "cell_type": "code",
   "execution_count": 36,
   "id": "c418b8fc",
   "metadata": {},
   "outputs": [
    {
     "name": "stdout",
     "output_type": "stream",
     "text": [
      "Model: \"sequential_1\"\n",
      "_________________________________________________________________\n",
      " Layer (type)                Output Shape              Param #   \n",
      "=================================================================\n",
      " lstm_2 (LSTM)               (None, 7, 64)             18944     \n",
      "                                                                 \n",
      " lstm_3 (LSTM)               (None, 32)                12416     \n",
      "                                                                 \n",
      " dropout_1 (Dropout)         (None, 32)                0         \n",
      "                                                                 \n",
      " dense_1 (Dense)             (None, 1)                 33        \n",
      "                                                                 \n",
      "=================================================================\n",
      "Total params: 31393 (122.63 KB)\n",
      "Trainable params: 31393 (122.63 KB)\n",
      "Non-trainable params: 0 (0.00 Byte)\n",
      "_________________________________________________________________\n"
     ]
    }
   ],
   "source": [
    "model = Sequential()\n",
    "model.add(LSTM(64,activation = 'relu', input_shape=(trainX.shape[1], trainX.shape[2]), return_sequences=True))\n",
    "model.add(LSTM(32,activation='relu',return_sequences=False))\n",
    "model.add(Dropout(0.2))\n",
    "model.add(Dense(trainY.shape[1]))\n",
    "\n",
    "model.compile(optimizer='adam', loss='mse')\n",
    "model.summary()"
   ]
  },
  {
   "cell_type": "code",
   "execution_count": 37,
   "id": "d3402d61",
   "metadata": {},
   "outputs": [
    {
     "name": "stdout",
     "output_type": "stream",
     "text": [
      "Epoch 1/10\n",
      "3/3 [==============================] - 4s 420ms/step - loss: 0.8300 - val_loss: 3.0966\n",
      "Epoch 2/10\n",
      "3/3 [==============================] - 0s 31ms/step - loss: 0.7794 - val_loss: 2.9857\n",
      "Epoch 3/10\n",
      "3/3 [==============================] - 0s 36ms/step - loss: 0.7296 - val_loss: 2.9228\n",
      "Epoch 4/10\n",
      "3/3 [==============================] - 0s 38ms/step - loss: 0.6824 - val_loss: 2.8756\n",
      "Epoch 5/10\n",
      "3/3 [==============================] - 0s 33ms/step - loss: 0.6291 - val_loss: 2.8378\n",
      "Epoch 6/10\n",
      "3/3 [==============================] - 0s 31ms/step - loss: 0.5979 - val_loss: 2.7622\n",
      "Epoch 7/10\n",
      "3/3 [==============================] - 0s 28ms/step - loss: 0.5260 - val_loss: 2.6909\n",
      "Epoch 8/10\n",
      "3/3 [==============================] - 0s 28ms/step - loss: 0.4561 - val_loss: 2.5722\n",
      "Epoch 9/10\n",
      "3/3 [==============================] - 0s 30ms/step - loss: 0.4198 - val_loss: 2.4666\n",
      "Epoch 10/10\n",
      "3/3 [==============================] - 0s 29ms/step - loss: 0.3918 - val_loss: 2.2885\n"
     ]
    }
   ],
   "source": [
    "history = model.fit(trainX, trainY, epochs=10, batch_size=16, validation_split=0.1)"
   ]
  },
  {
   "cell_type": "code",
   "execution_count": 38,
   "id": "4b40486e",
   "metadata": {},
   "outputs": [
    {
     "data": {
      "text/plain": [
       "<function matplotlib.pyplot.legend(*args, **kwargs)>"
      ]
     },
     "execution_count": 38,
     "metadata": {},
     "output_type": "execute_result"
    },
    {
     "data": {
      "image/png": "[encoded data removed]",
      "text/plain": [
       "<Figure size 640x480 with 1 Axes>"
      ]
     },
     "metadata": {},
     "output_type": "display_data"
    }
   ],
   "source": [
    "plt.plot(history.history['loss'], label='Training loss')\n",
    "plt.plot(history.history['val_loss'], label='Validation loss')\n",
    "plt.legend"
   ]
  },
  {
   "cell_type": "code",
   "execution_count": 40,
   "id": "74e25ef9",
   "metadata": {},
   "outputs": [
    {
     "name": "stdout",
     "output_type": "stream",
     "text": [
      "[Timestamp('1970-01-01 00:00:00.000002'), Timestamp('1970-01-02 00:00:00.000002'), Timestamp('1970-01-03 00:00:00.000002'), Timestamp('1970-01-04 00:00:00.000002'), Timestamp('1970-01-05 00:00:00.000002'), Timestamp('1970-01-06 00:00:00.000002'), Timestamp('1970-01-07 00:00:00.000002'), Timestamp('1970-01-08 00:00:00.000002'), Timestamp('1970-01-09 00:00:00.000002'), Timestamp('1970-01-10 00:00:00.000002'), Timestamp('1970-01-11 00:00:00.000002'), Timestamp('1970-01-12 00:00:00.000002'), Timestamp('1970-01-13 00:00:00.000002'), Timestamp('1970-01-14 00:00:00.000002'), Timestamp('1970-01-15 00:00:00.000002')]\n",
      "1/1 [==============================] - 0s 27ms/step\n"
     ]
    },
    {
     "ename": "KeyError",
     "evalue": "\"None of [Index([1970, 1971, 1972, 1973, 1974, 1975, 1976, 1977, 1978, 1979, 1980, 1981,\\n       1982, 1983, 1984, 1985, 1986, 1987, 1988, 1989, 1990, 1991, 1992, 1993,\\n       1994, 1995, 1996, 1997, 1998, 1999, 2000, 2001, 2002, 2003, 2004, 2005,\\n       2006, 2007, 2008, 2009, 2010, 2011, 2012, 2013, 2014, 2015],\\n      dtype='int64')] are in the [index]\"",
     "output_type": "error",
     "traceback": [
      "\u001b[1;31m---------------------------------------------------------------------------\u001b[0m",
      "\u001b[1;31mKeyError\u001b[0m                                  Traceback (most recent call last)",
      "Cell \u001b[1;32mIn[40], line 23\u001b[0m\n\u001b[0;32m     21\u001b[0m original \u001b[38;5;241m=\u001b[39m data[[\u001b[38;5;124m'\u001b[39m\u001b[38;5;124mYear\u001b[39m\u001b[38;5;124m'\u001b[39m, \u001b[38;5;124m'\u001b[39m\u001b[38;5;124mIreland_Public_Debt_Pc_of_GDP\u001b[39m\u001b[38;5;124m'\u001b[39m]]\n\u001b[0;32m     22\u001b[0m \u001b[38;5;66;03m#original['Year']=pd.to_datetime(original['Year'])\u001b[39;00m\n\u001b[1;32m---> 23\u001b[0m original \u001b[38;5;241m=\u001b[39m original\u001b[38;5;241m.\u001b[39mloc[original[\u001b[38;5;124m'\u001b[39m\u001b[38;5;124mYear\u001b[39m\u001b[38;5;124m'\u001b[39m]]\n\u001b[0;32m     25\u001b[0m sns\u001b[38;5;241m.\u001b[39mlineplot(original[\u001b[38;5;124m'\u001b[39m\u001b[38;5;124mYear\u001b[39m\u001b[38;5;124m'\u001b[39m], original[\u001b[38;5;124m'\u001b[39m\u001b[38;5;124mIreland_Public_Debt_Pc_of_GDP\u001b[39m\u001b[38;5;124m'\u001b[39m])\n\u001b[0;32m     27\u001b[0m sns\u001b[38;5;241m.\u001b[39mlineplot(df_forecast[\u001b[38;5;124m'\u001b[39m\u001b[38;5;124mYear\u001b[39m\u001b[38;5;124m'\u001b[39m], df_forecast[\u001b[38;5;124m'\u001b[39m\u001b[38;5;124mIreland_Public_Debt_Pc_of_GDP\u001b[39m\u001b[38;5;124m'\u001b[39m])\n",
      "File \u001b[1;32m~\\AppData\\Roaming\\Python\\Python311\\site-packages\\pandas\\core\\indexing.py:1192\u001b[0m, in \u001b[0;36m_LocationIndexer.__getitem__\u001b[1;34m(self, key)\u001b[0m\n\u001b[0;32m   1190\u001b[0m maybe_callable \u001b[38;5;241m=\u001b[39m com\u001b[38;5;241m.\u001b[39mapply_if_callable(key, \u001b[38;5;28mself\u001b[39m\u001b[38;5;241m.\u001b[39mobj)\n\u001b[0;32m   1191\u001b[0m maybe_callable \u001b[38;5;241m=\u001b[39m \u001b[38;5;28mself\u001b[39m\u001b[38;5;241m.\u001b[39m_check_deprecated_callable_usage(key, maybe_callable)\n\u001b[1;32m-> 1192\u001b[0m \u001b[38;5;28;01mreturn\u001b[39;00m \u001b[38;5;28mself\u001b[39m\u001b[38;5;241m.\u001b[39m_getitem_axis(maybe_callable, axis\u001b[38;5;241m=\u001b[39maxis)\n",
      "File \u001b[1;32m~\\AppData\\Roaming\\Python\\Python311\\site-packages\\pandas\\core\\indexing.py:1421\u001b[0m, in \u001b[0;36m_LocIndexer._getitem_axis\u001b[1;34m(self, key, axis)\u001b[0m\n\u001b[0;32m   1418\u001b[0m     \u001b[38;5;28;01mif\u001b[39;00m \u001b[38;5;28mhasattr\u001b[39m(key, \u001b[38;5;124m\"\u001b[39m\u001b[38;5;124mndim\u001b[39m\u001b[38;5;124m\"\u001b[39m) \u001b[38;5;129;01mand\u001b[39;00m key\u001b[38;5;241m.\u001b[39mndim \u001b[38;5;241m>\u001b[39m \u001b[38;5;241m1\u001b[39m:\n\u001b[0;32m   1419\u001b[0m         \u001b[38;5;28;01mraise\u001b[39;00m \u001b[38;5;167;01mValueError\u001b[39;00m(\u001b[38;5;124m\"\u001b[39m\u001b[38;5;124mCannot index with multidimensional key\u001b[39m\u001b[38;5;124m\"\u001b[39m)\n\u001b[1;32m-> 1421\u001b[0m     \u001b[38;5;28;01mreturn\u001b[39;00m \u001b[38;5;28mself\u001b[39m\u001b[38;5;241m.\u001b[39m_getitem_iterable(key, axis\u001b[38;5;241m=\u001b[39maxis)\n\u001b[0;32m   1423\u001b[0m \u001b[38;5;66;03m# nested tuple slicing\u001b[39;00m\n\u001b[0;32m   1424\u001b[0m \u001b[38;5;28;01mif\u001b[39;00m is_nested_tuple(key, labels):\n",
      "File \u001b[1;32m~\\AppData\\Roaming\\Python\\Python311\\site-packages\\pandas\\core\\indexing.py:1361\u001b[0m, in \u001b[0;36m_LocIndexer._getitem_iterable\u001b[1;34m(self, key, axis)\u001b[0m\n\u001b[0;32m   1358\u001b[0m \u001b[38;5;28mself\u001b[39m\u001b[38;5;241m.\u001b[39m_validate_key(key, axis)\n\u001b[0;32m   1360\u001b[0m \u001b[38;5;66;03m# A collection of keys\u001b[39;00m\n\u001b[1;32m-> 1361\u001b[0m keyarr, indexer \u001b[38;5;241m=\u001b[39m \u001b[38;5;28mself\u001b[39m\u001b[38;5;241m.\u001b[39m_get_listlike_indexer(key, axis)\n\u001b[0;32m   1362\u001b[0m \u001b[38;5;28;01mreturn\u001b[39;00m \u001b[38;5;28mself\u001b[39m\u001b[38;5;241m.\u001b[39mobj\u001b[38;5;241m.\u001b[39m_reindex_with_indexers(\n\u001b[0;32m   1363\u001b[0m     {axis: [keyarr, indexer]}, copy\u001b[38;5;241m=\u001b[39m\u001b[38;5;28;01mTrue\u001b[39;00m, allow_dups\u001b[38;5;241m=\u001b[39m\u001b[38;5;28;01mTrue\u001b[39;00m\n\u001b[0;32m   1364\u001b[0m )\n",
      "File \u001b[1;32m~\\AppData\\Roaming\\Python\\Python311\\site-packages\\pandas\\core\\indexing.py:1559\u001b[0m, in \u001b[0;36m_LocIndexer._get_listlike_indexer\u001b[1;34m(self, key, axis)\u001b[0m\n\u001b[0;32m   1556\u001b[0m ax \u001b[38;5;241m=\u001b[39m \u001b[38;5;28mself\u001b[39m\u001b[38;5;241m.\u001b[39mobj\u001b[38;5;241m.\u001b[39m_get_axis(axis)\n\u001b[0;32m   1557\u001b[0m axis_name \u001b[38;5;241m=\u001b[39m \u001b[38;5;28mself\u001b[39m\u001b[38;5;241m.\u001b[39mobj\u001b[38;5;241m.\u001b[39m_get_axis_name(axis)\n\u001b[1;32m-> 1559\u001b[0m keyarr, indexer \u001b[38;5;241m=\u001b[39m ax\u001b[38;5;241m.\u001b[39m_get_indexer_strict(key, axis_name)\n\u001b[0;32m   1561\u001b[0m \u001b[38;5;28;01mreturn\u001b[39;00m keyarr, indexer\n",
      "File \u001b[1;32m~\\AppData\\Roaming\\Python\\Python311\\site-packages\\pandas\\core\\indexes\\base.py:6199\u001b[0m, in \u001b[0;36mIndex._get_indexer_strict\u001b[1;34m(self, key, axis_name)\u001b[0m\n\u001b[0;32m   6196\u001b[0m \u001b[38;5;28;01melse\u001b[39;00m:\n\u001b[0;32m   6197\u001b[0m     keyarr, indexer, new_indexer \u001b[38;5;241m=\u001b[39m \u001b[38;5;28mself\u001b[39m\u001b[38;5;241m.\u001b[39m_reindex_non_unique(keyarr)\n\u001b[1;32m-> 6199\u001b[0m \u001b[38;5;28mself\u001b[39m\u001b[38;5;241m.\u001b[39m_raise_if_missing(keyarr, indexer, axis_name)\n\u001b[0;32m   6201\u001b[0m keyarr \u001b[38;5;241m=\u001b[39m \u001b[38;5;28mself\u001b[39m\u001b[38;5;241m.\u001b[39mtake(indexer)\n\u001b[0;32m   6202\u001b[0m \u001b[38;5;28;01mif\u001b[39;00m \u001b[38;5;28misinstance\u001b[39m(key, Index):\n\u001b[0;32m   6203\u001b[0m     \u001b[38;5;66;03m# GH 42790 - Preserve name from an Index\u001b[39;00m\n",
      "File \u001b[1;32m~\\AppData\\Roaming\\Python\\Python311\\site-packages\\pandas\\core\\indexes\\base.py:6248\u001b[0m, in \u001b[0;36mIndex._raise_if_missing\u001b[1;34m(self, key, indexer, axis_name)\u001b[0m\n\u001b[0;32m   6246\u001b[0m \u001b[38;5;28;01mif\u001b[39;00m nmissing:\n\u001b[0;32m   6247\u001b[0m     \u001b[38;5;28;01mif\u001b[39;00m nmissing \u001b[38;5;241m==\u001b[39m \u001b[38;5;28mlen\u001b[39m(indexer):\n\u001b[1;32m-> 6248\u001b[0m         \u001b[38;5;28;01mraise\u001b[39;00m \u001b[38;5;167;01mKeyError\u001b[39;00m(\u001b[38;5;124mf\u001b[39m\u001b[38;5;124m\"\u001b[39m\u001b[38;5;124mNone of [\u001b[39m\u001b[38;5;132;01m{\u001b[39;00mkey\u001b[38;5;132;01m}\u001b[39;00m\u001b[38;5;124m] are in the [\u001b[39m\u001b[38;5;132;01m{\u001b[39;00maxis_name\u001b[38;5;132;01m}\u001b[39;00m\u001b[38;5;124m]\u001b[39m\u001b[38;5;124m\"\u001b[39m)\n\u001b[0;32m   6250\u001b[0m     not_found \u001b[38;5;241m=\u001b[39m \u001b[38;5;28mlist\u001b[39m(ensure_index(key)[missing_mask\u001b[38;5;241m.\u001b[39mnonzero()[\u001b[38;5;241m0\u001b[39m]]\u001b[38;5;241m.\u001b[39munique())\n\u001b[0;32m   6251\u001b[0m     \u001b[38;5;28;01mraise\u001b[39;00m \u001b[38;5;167;01mKeyError\u001b[39;00m(\u001b[38;5;124mf\u001b[39m\u001b[38;5;124m\"\u001b[39m\u001b[38;5;132;01m{\u001b[39;00mnot_found\u001b[38;5;132;01m}\u001b[39;00m\u001b[38;5;124m not in index\u001b[39m\u001b[38;5;124m\"\u001b[39m)\n",
      "\u001b[1;31mKeyError\u001b[0m: \"None of [Index([1970, 1971, 1972, 1973, 1974, 1975, 1976, 1977, 1978, 1979, 1980, 1981,\\n       1982, 1983, 1984, 1985, 1986, 1987, 1988, 1989, 1990, 1991, 1992, 1993,\\n       1994, 1995, 1996, 1997, 1998, 1999, 2000, 2001, 2002, 2003, 2004, 2005,\\n       2006, 2007, 2008, 2009, 2010, 2011, 2012, 2013, 2014, 2015],\\n      dtype='int64')] are in the [index]\""
     ]
    }
   ],
   "source": [
    "n_past = 16\n",
    "n_days_for_prediction=15  #let us predict past 15 days\n",
    "\n",
    "predict_period_dates = pd.date_range(list(train_dates)[-n_past], periods=n_days_for_prediction).tolist()\n",
    "print(predict_period_dates)\n",
    "\n",
    "#Make prediction\n",
    "prediction = model.predict(trainX[-n_days_for_prediction:]) #shape = (n, 1) where n is the n_days_for_prediction\n",
    "\n",
    "prediction_copies = np.repeat(prediction, df_for_training.shape[1], axis=-1)\n",
    "y_pred_future = scaler.inverse_transform(prediction_copies)[:,0]\n",
    "\n",
    "# Convert timestamp to date\n",
    "forecast_dates = []\n",
    "for time_i in predict_period_dates:\n",
    "    forecast_dates.append(time_i.date())\n",
    "\n",
    "df_forecast = pd.DataFrame({'Year':np.array(forecast_dates), 'Ireland_Public_Debt_Pc_of_GDP':y_pred_future})\n",
    "df_forecast['Year']=pd.to_datetime(df_forecast['Year'])\n",
    "\n",
    "original = data[['Year', 'Ireland_Public_Debt_Pc_of_GDP']]\n",
    "#original['Year']=pd.to_datetime(original['Year'])\n",
    "original = original.loc[original['Year']]\n",
    "\n",
    "sns.lineplot(original['Year'], original['Ireland_Public_Debt_Pc_of_GDP'])\n",
    "\n",
    "sns.lineplot(df_forecast['Year'], df_forecast['Ireland_Public_Debt_Pc_of_GDP'])\n",
    "   \n"
   ]
  },
  {
   "cell_type": "code",
   "execution_count": 43,
   "id": "39e3b0f4",
   "metadata": {},
   "outputs": [
    {
     "name": "stdout",
     "output_type": "stream",
     "text": [
      "[32.54935  30.151566 29.613968 30.075623 36.080708 38.86885  42.554276\n",
      " 47.229225 49.60953  54.777786 59.646637 66.0383   70.78032  74.52842\n",
      " 76.84162 ]\n"
     ]
    }
   ],
   "source": [
    "print(y_pred_future)"
   ]
  },
  {
   "cell_type": "code",
   "execution_count": 44,
   "id": "7a5676fe",
   "metadata": {},
   "outputs": [
    {
     "name": "stdout",
     "output_type": "stream",
     "text": [
      "    Ireland_Public_Debt_Pc_of_GDP  Denmark_Public_Debt_Pc_of_GDP  \\\n",
      "0                           41.65                          7.620   \n",
      "1                           39.85                          7.720   \n",
      "2                           37.34                          6.640   \n",
      "3                           35.09                          5.850   \n",
      "4                           43.45                          5.080   \n",
      "5                           48.34                          4.260   \n",
      "6                           51.70                          4.490   \n",
      "7                           49.15                          8.780   \n",
      "8                           50.65                         14.100   \n",
      "9                           54.95                         19.370   \n",
      "10                          56.06                         27.120   \n",
      "11                          59.80                         36.520   \n",
      "12                          63.77                         47.930   \n",
      "13                          71.07                         54.170   \n",
      "14                          75.05                         63.560   \n",
      "15                          76.14                         68.390   \n",
      "16                          86.22                         66.210   \n",
      "17                          87.09                         60.580   \n",
      "18                          84.77                         57.150   \n",
      "19                          77.37                         56.580   \n",
      "20                          93.18                         57.690   \n",
      "21                          94.55                         58.840   \n",
      "22                          91.55                         63.840   \n",
      "23                          94.12                         66.990   \n",
      "24                          88.67                         66.130   \n",
      "25                          82.12                         68.720   \n",
      "26                          73.52                         69.230   \n",
      "27                          63.55                         64.755   \n",
      "28                          53.58                         60.280   \n",
      "29                          48.50                         56.760   \n",
      "30                          37.78                         52.350   \n",
      "31                          35.50                         48.510   \n",
      "32                          32.12                         49.080   \n",
      "33                          30.94                         46.150   \n",
      "34                          29.63                         44.180   \n",
      "35                          27.35                         37.400   \n",
      "36                          24.81                         31.540   \n",
      "37                          25.01                         27.340   \n",
      "38                          44.34                         33.390   \n",
      "39                          61.68                         40.370   \n",
      "40                          86.30                         42.880   \n",
      "41                         109.61                         46.410   \n",
      "42                         119.48                         45.190   \n",
      "43                         119.47                         44.650   \n",
      "44                         105.25                         44.770   \n",
      "45                          78.68                         45.530   \n",
      "\n",
      "    United Kingdom_Public_Debt_Pc_of_GDP  Denmark_Inflation  \\\n",
      "0                                 73.240           6.514841   \n",
      "1                                 65.550           5.869870   \n",
      "2                                 62.040           6.562361   \n",
      "3                                 54.560           9.303383   \n",
      "4                                 51.600          15.275206   \n",
      "5                                 46.680           9.605612   \n",
      "6                                 48.880           9.010291   \n",
      "7                                 50.460          10.922238   \n",
      "8                                 51.630          10.213655   \n",
      "9                                 45.300           9.611050   \n",
      "10                                42.770          12.305324   \n",
      "11                                45.090          11.767387   \n",
      "12                                43.390          10.120826   \n",
      "13                                42.180           6.908229   \n",
      "14                                42.590           6.290779   \n",
      "15                                41.540           4.678751   \n",
      "16                                41.520           3.678184   \n",
      "17                                39.620           4.019993   \n",
      "18                                37.340           4.535133   \n",
      "19                                32.810           4.772723   \n",
      "20                                28.820           2.641603   \n",
      "21                                28.800           2.395153   \n",
      "22                                33.660           2.096044   \n",
      "23                                38.530           1.257857   \n",
      "24                                41.420           1.992015   \n",
      "25                                44.450           2.083608   \n",
      "26                                44.550           2.126298   \n",
      "27                                43.095           2.182167   \n",
      "28                                41.640           1.845651   \n",
      "29                                39.550           2.497795   \n",
      "30                                36.980           2.903282   \n",
      "31                                34.300           2.337870   \n",
      "32                                34.230           2.424437   \n",
      "33                                35.760           2.075078   \n",
      "34                                38.660           1.154357   \n",
      "35                                40.010           1.817815   \n",
      "36                                41.020           1.924221   \n",
      "37                                42.210           1.693266   \n",
      "38                                50.270           3.416268   \n",
      "39                                64.200           1.304710   \n",
      "40                                75.740           2.310924   \n",
      "41                                81.320           2.758682   \n",
      "42                                84.820           2.397915   \n",
      "43                                86.000           0.789072   \n",
      "44                                87.940           0.564021   \n",
      "45                                88.980           0.452034   \n",
      "\n",
      "    United Kingdom_Inflation  Ireland_Inflation  Denmark_GDP  \\\n",
      "0                   6.366568           8.207190     1.596842   \n",
      "1                   9.444837           8.961749     3.004996   \n",
      "2                   7.071098           8.605817     3.929385   \n",
      "3                   9.196033          11.414850     4.092946   \n",
      "4                  16.044011          16.976127    -1.122394   \n",
      "5                  24.207288          20.875850    -1.456645   \n",
      "6                  16.559523          17.985696     5.924606   \n",
      "7                  15.840267          13.472225     1.870291   \n",
      "8                   8.263141           7.711141     2.226309   \n",
      "9                  13.421280          13.295454     3.869111   \n",
      "10                 17.965924          18.154443    -0.482986   \n",
      "11                 11.876627          20.373523    -0.666124   \n",
      "12                  8.598864          17.147114     3.684573   \n",
      "13                  4.609303          10.447630     2.596072   \n",
      "14                  4.960711           8.651114     4.166138   \n",
      "15                  6.071394           5.395497     4.003752   \n",
      "16                  3.427609           3.827039     4.904178   \n",
      "17                  4.148922           3.159408     0.254266   \n",
      "18                  4.155352           2.134572    -0.013601   \n",
      "19                  5.760249           4.089043     0.645187   \n",
      "20                  8.063461           3.317321     1.475244   \n",
      "21                  7.461783           3.210817     1.393634   \n",
      "22                  4.591549           3.069997     1.957007   \n",
      "23                  2.558578           1.469421     0.010688   \n",
      "24                  2.219013           2.309199     5.332463   \n",
      "25                  2.697495           2.524867     3.027587   \n",
      "26                  2.851782           1.753732     2.900100   \n",
      "27                  2.201143           1.525605     3.260890   \n",
      "28                  1.820562           2.415518     2.218159   \n",
      "29                  1.752951           1.631924     2.948022   \n",
      "30                  1.182956           5.590717     3.746863   \n",
      "31                  1.532350           4.872905     0.823153   \n",
      "32                  1.520402           4.614733     0.466346   \n",
      "33                  1.376500           3.490490     0.390059   \n",
      "34                  1.390398           2.199629     2.668219   \n",
      "35                  2.089136           2.429692     2.336641   \n",
      "36                  2.455662           3.931640     3.913008   \n",
      "37                  2.386562           4.897116     0.909239   \n",
      "38                  3.521409           4.060305    -0.512017   \n",
      "39                  1.961732          -4.478103    -4.906548   \n",
      "40                  2.492655          -0.922096     1.870991   \n",
      "41                  3.856112           2.557189     1.336778   \n",
      "42                  2.573235           1.696209     0.226500   \n",
      "43                  2.291667           0.508715     0.933341   \n",
      "44                  1.451120           0.182542     1.619394   \n",
      "45                  0.368047          -0.289879     2.342591   \n",
      "\n",
      "    United Kingdom_GDP  Ireland_GDP  \n",
      "0             4.308886     3.469886  \n",
      "1             3.504717     3.469886  \n",
      "2             4.321668     6.489808  \n",
      "3             6.523848     4.721428  \n",
      "4            -2.484404     4.260231  \n",
      "5            -1.473649     5.656645  \n",
      "6             2.910266     1.394808  \n",
      "7             2.457751     8.211302  \n",
      "8             4.204261     7.186727  \n",
      "9             3.749017     3.073036  \n",
      "10           -2.031368     3.079329  \n",
      "11           -0.787744     3.325216  \n",
      "12            1.994891     2.283470  \n",
      "13            4.221856    -0.244302  \n",
      "14            2.269105     4.354372  \n",
      "15            4.147415     3.085616  \n",
      "16            3.150341    -0.428331  \n",
      "17            5.392738     4.663092  \n",
      "18            5.732414     5.217413  \n",
      "19            2.577603     5.813920  \n",
      "20            0.733755     8.466528  \n",
      "21           -1.103122     1.929639  \n",
      "22            0.401082     3.343274  \n",
      "23            2.489831     2.692610  \n",
      "24            3.846009     5.755827  \n",
      "25            2.531670     9.634422  \n",
      "26            2.582023     7.379625  \n",
      "27            4.924929    11.021765  \n",
      "28            3.414270     8.766122  \n",
      "29            3.066176    10.529886  \n",
      "30            4.318727     9.403525  \n",
      "31            2.578741     5.305822  \n",
      "32            1.791986     5.899365  \n",
      "33            3.146573     3.013839  \n",
      "34            2.426497     6.788140  \n",
      "35            2.738842     5.739782  \n",
      "36            2.386275     4.987854  \n",
      "37            2.620331     5.310118  \n",
      "38           -0.225727    -4.484071  \n",
      "39           -4.614957    -5.095783  \n",
      "40            2.238689     1.682972  \n",
      "41            1.145102     1.280752  \n",
      "42            1.512937    -0.129692  \n",
      "43            1.792322     1.174614  \n",
      "44            3.195782     8.828999  \n",
      "45            2.220258    24.475253  \n"
     ]
    }
   ],
   "source": [
    "print(df_for_training)"
   ]
  },
  {
   "cell_type": "code",
   "execution_count": null,
   "id": "9b127181",
   "metadata": {},
   "outputs": [],
   "source": []
  }
 ],
 "metadata": {
  "kernelspec": {
   "display_name": "Python 3 (ipykernel)",
   "language": "python",
   "name": "python3"
  },
  "language_info": {
   "codemirror_mode": {
    "name": "ipython",
    "version": 3
   },
   "file_extension": ".py",
   "mimetype": "text/x-python",
   "name": "python",
   "nbconvert_exporter": "python",
   "pygments_lexer": "ipython3",
   "version": "3.11.5"
  }
 },
 "nbformat": 4,
 "nbformat_minor": 5
}
